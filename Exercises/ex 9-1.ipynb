{
 "cells": [
  {
   "cell_type": "code",
   "execution_count": 3,
   "id": "6f98e40e-1a26-4ce5-8b29-c0e00dd1dd5a",
   "metadata": {},
   "outputs": [
    {
     "data": {
      "text/plain": [
       "False"
      ]
     },
     "execution_count": 3,
     "metadata": {},
     "output_type": "execute_result"
    }
   ],
   "source": [
    "x = {\"moein\":22}\n",
    "22 in x"
   ]
  },
  {
   "cell_type": "code",
   "execution_count": 5,
   "id": "ec0fd4fc-b123-4ad6-8c1b-c16497cdeedb",
   "metadata": {},
   "outputs": [
    {
     "data": {
      "text/plain": [
       "True"
      ]
     },
     "execution_count": 5,
     "metadata": {},
     "output_type": "execute_result"
    }
   ],
   "source": [
    "x = {\"moein\":22}\n",
    "\"moein\" in x"
   ]
  },
  {
   "cell_type": "code",
   "execution_count": null,
   "id": "6b1b328f-3246-4291-bcc0-c8de0a2bc14d",
   "metadata": {},
   "outputs": [],
   "source": []
  }
 ],
 "metadata": {
  "kernelspec": {
   "display_name": "Python 3 (ipykernel)",
   "language": "python",
   "name": "python3"
  },
  "language_info": {
   "codemirror_mode": {
    "name": "ipython",
    "version": 3
   },
   "file_extension": ".py",
   "mimetype": "text/x-python",
   "name": "python",
   "nbconvert_exporter": "python",
   "pygments_lexer": "ipython3",
   "version": "3.11.7"
  }
 },
 "nbformat": 4,
 "nbformat_minor": 5
}
