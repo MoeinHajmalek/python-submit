{
 "cells": [
  {
   "cell_type": "code",
   "execution_count": null,
   "id": "87e96ef8-bca0-41ad-9e84-e538ab6064a4",
   "metadata": {},
   "outputs": [],
   "source": [
    "r = {\"moein\":22,\"ali\":15,\"reza\":70}\n",
    "sen = r.get(\"reza\")\n",
    "print(sen)\n",
    "#با استفاده از متد .getمیتوان به مقدار کلید دسترسی پیدا کنیم و اگر کلیدی وجود نداش"
   ]
  }
 ],
 "metadata": {
  "kernelspec": {
   "display_name": "Python 3 (ipykernel)",
   "language": "python",
   "name": "python3"
  },
  "language_info": {
   "codemirror_mode": {
    "name": "ipython",
    "version": 3
   },
   "file_extension": ".py",
   "mimetype": "text/x-python",
   "name": "python",
   "nbconvert_exporter": "python",
   "pygments_lexer": "ipython3",
   "version": "3.11.7"
  }
 },
 "nbformat": 4,
 "nbformat_minor": 5
}
