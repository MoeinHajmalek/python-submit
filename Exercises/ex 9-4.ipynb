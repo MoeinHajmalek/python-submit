{
 "cells": [
  {
   "cell_type": "code",
   "execution_count": 1,
   "id": "932e3000-5f53-4f32-8a95-37361206c5d0",
   "metadata": {},
   "outputs": [
    {
     "name": "stdout",
     "output_type": "stream",
     "text": [
      "{'name': 'John', 'city': 'London'}\n"
     ]
    }
   ],
   "source": [
    "d = {'name': 'John', 'age': 25, 'city': 'London'}\n",
    "del d['age']\n",
    "print(d)"
   ]
  },
  {
   "cell_type": "code",
   "execution_count": 2,
   "id": "dcfae1f8-4c56-404d-a848-0f029eceec7b",
   "metadata": {},
   "outputs": [
    {
     "name": "stdout",
     "output_type": "stream",
     "text": [
      "25\n"
     ]
    }
   ],
   "source": [
    "s = {'milad': 'tsn', 'age': 25}\n",
    "r = s.get('age')\n",
    "print(r)"
   ]
  },
  {
   "cell_type": "code",
   "execution_count": 3,
   "id": "07c37a89-ec7e-405a-8265-b4db14f88e65",
   "metadata": {},
   "outputs": [
    {
     "name": "stdout",
     "output_type": "stream",
     "text": [
      "2\n"
     ]
    }
   ],
   "source": [
    "dict = {'ali': 'reza', 'age': 25}\n",
    "Ldict = len(dict)\n",
    "print(Ldict)  "
   ]
  },
  {
   "cell_type": "code",
   "execution_count": 7,
   "id": "539e0ef4-4877-4ee6-b486-4090232086b9",
   "metadata": {},
   "outputs": [
    {
     "name": "stdout",
     "output_type": "stream",
     "text": [
      "21\n",
      "{'ali': 5, 'reza': 4, 'city': 'kerman'}\n"
     ]
    }
   ],
   "source": [
    "ts = {'ali':5 ,'reza':4, 'age': 21, 'city': 'kerman'}\n",
    "test = ts.pop('age')\n",
    "print(test)  \n",
    "print(ts)"
   ]
  },
  {
   "cell_type": "code",
   "execution_count": null,
   "id": "9c035667-8f49-423a-a7c3-8b2ff2b754fa",
   "metadata": {},
   "outputs": [],
   "source": []
  }
 ],
 "metadata": {
  "kernelspec": {
   "display_name": "Python 3 (ipykernel)",
   "language": "python",
   "name": "python3"
  },
  "language_info": {
   "codemirror_mode": {
    "name": "ipython",
    "version": 3
   },
   "file_extension": ".py",
   "mimetype": "text/x-python",
   "name": "python",
   "nbconvert_exporter": "python",
   "pygments_lexer": "ipython3",
   "version": "3.11.7"
  }
 },
 "nbformat": 4,
 "nbformat_minor": 5
}
